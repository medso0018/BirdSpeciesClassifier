{
  "cells": [
    {
      "cell_type": "code",
      "execution_count": 1,
      "metadata": {
        "id": "jfSC0OyF11Zo"
      },
      "outputs": [],
      "source": [
        "import pandas as pd\n",
        "import numpy as np\n",
        "import tensorflow as tf\n",
        "import keras as kr\n",
        "from keras.preprocessing.image import ImageDataGenerator"
      ]
    },
    {
      "cell_type": "code",
      "execution_count": 2,
      "metadata": {
        "id": "TsiSu_PN2f95"
      },
      "outputs": [],
      "source": [
        "BASE_PATH = './drive/MyDrive/Jupyter/datasets/birds'\n",
        "IMAGE_SIZE = (224, 224)\n",
        "INPUT_SHAPE = (*IMAGE_SIZE, 3)\n",
        "NUM_CLASSES = 500\n",
        "BATCH_SIZE = 64"
      ]
    }
  ],
  "metadata": {
    "colab": {
      "provenance": []
    },
    "gpuClass": "standard",
    "kernelspec": {
      "display_name": "Python 3",
      "name": "python3"
    },
    "language_info": {
      "name": "python"
    }
  },
  "nbformat": 4,
  "nbformat_minor": 0
}
