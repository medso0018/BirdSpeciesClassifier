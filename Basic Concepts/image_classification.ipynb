{
 "cells": [
  {
   "cell_type": "code",
   "execution_count": 1,
   "metadata": {},
   "outputs": [],
   "source": [
    "import tensorflow as tf\n",
    "import keras\n",
    "import numpy as np\n",
    "import matplotlib.pyplot as plt\n",
    "from keras.utils import np_utils\n",
    "from skimage.color import gray2rgb"
   ]
  },
  {
   "cell_type": "code",
   "execution_count": 2,
   "metadata": {},
   "outputs": [],
   "source": [
    "# load dataset\n",
    "fashion_mnist = tf.keras.datasets.fashion_mnist\n",
    "\n",
    "(X_train, y_train), (X_test, y_test) = fashion_mnist.load_data()"
   ]
  },
  {
   "cell_type": "code",
   "execution_count": 3,
   "metadata": {},
   "outputs": [],
   "source": [
    "class_names = ['T-shirt/top', 'Trouser', 'Pullover', 'Dress', 'Coat', 'Sandal', 'Shirt', 'Sneaker', 'Bag', 'Ankle boot']"
   ]
  },
  {
   "cell_type": "code",
   "execution_count": 4,
   "metadata": {},
   "outputs": [
    {
     "data": {
      "text/plain": [
       "((60000, 28, 28), (60000,), (10000, 28, 28), (10000,))"
      ]
     },
     "execution_count": 4,
     "metadata": {},
     "output_type": "execute_result"
    }
   ],
   "source": [
    "# dataset shapes\n",
    "X_train.shape, y_train.shape, X_test.shape, y_test.shape"
   ]
  },
  {
   "cell_type": "code",
   "execution_count": 5,
   "metadata": {},
   "outputs": [
    {
     "data": {
      "image/png": "[encoded data removed]",
      "text/plain": [
       "<Figure size 1440x216 with 10 Axes>"
      ]
     },
     "metadata": {
      "needs_background": "light"
     },
     "output_type": "display_data"
    }
   ],
   "source": [
    "# set random seed\n",
    "np.random.seed(100)\n",
    "\n",
    "# choose some examples to visualize\n",
    "examples = []\n",
    "for i in range(len(class_names)):\n",
    "    indexes = np.where(y_test == i)\n",
    "    all_indexes = np.hstack(indexes)\n",
    "    examples.append(np.random.choice(all_indexes))\n",
    "\n",
    "# show examples\n",
    "fig, axes = plt.subplots(1, 10, figsize=(20, 3))\n",
    "fig.tight_layout()\n",
    "for i, ax in enumerate(axes.flat):\n",
    "    ax.imshow(X_test[examples][i], cmap=plt.cm.binary)\n",
    "    ax.title.set_text(f'Class: {class_names[y_test[examples][i]]}')\n",
    "    ax.axis('off')"
   ]
  },
  {
   "cell_type": "code",
   "execution_count": 6,
   "metadata": {},
   "outputs": [
    {
     "data": {
      "text/plain": [
       "((60000, 28, 28), (10000, 28, 28))"
      ]
     },
     "execution_count": 6,
     "metadata": {},
     "output_type": "execute_result"
    }
   ],
   "source": [
    "# normalization\n",
    "X_train = X_train / 255\n",
    "X_test = X_test / 255\n",
    "\n",
    "# X_train = np.array([gray2rgb(img) for img in X_train])\n",
    "# X_test = np.array([gray2rgb(img) for img in X_test])\n",
    "\n",
    "X_train.shape, X_test.shape"
   ]
  },
  {
   "cell_type": "code",
   "execution_count": 7,
   "metadata": {},
   "outputs": [
    {
     "data": {
      "text/plain": [
       "((60000, 10), (10000, 10))"
      ]
     },
     "execution_count": 7,
     "metadata": {},
     "output_type": "execute_result"
    }
   ],
   "source": [
    "y_train = np_utils.to_categorical(y_train)\n",
    "y_test = np_utils.to_categorical(y_test)\n",
    "\n",
    "y_train.shape, y_test.shape"
   ]
  },
  {
   "cell_type": "code",
   "execution_count": 8,
   "metadata": {},
   "outputs": [
    {
     "data": {
      "text/plain": [
       "(28, 28)"
      ]
     },
     "execution_count": 8,
     "metadata": {},
     "output_type": "execute_result"
    }
   ],
   "source": [
    "np.shape(X_train)[1:]"
   ]
  },
  {
   "cell_type": "code",
   "execution_count": 9,
   "metadata": {},
   "outputs": [],
   "source": [
    "model = keras.Sequential([\n",
    "    keras.layers.Flatten(input_shape=(28, 28)),\n",
    "    keras.layers.Dense(128, activation='relu'),\n",
    "    keras.layers.Dense(10, activation='softmax')\n",
    "])\n",
    "\n",
    "model.compile(optimizer='adam', loss='categorical_crossentropy', metrics=['accuracy'])"
   ]
  },
  {
   "cell_type": "code",
   "execution_count": 10,
   "metadata": {},
   "outputs": [
    {
     "name": "stdout",
     "output_type": "stream",
     "text": [
      "Model: \"sequential\"\n",
      "_________________________________________________________________\n",
      " Layer (type)                Output Shape              Param #   \n",
      "=================================================================\n",
      " flatten (Flatten)           (None, 784)               0         \n",
      "                                                                 \n",
      " dense (Dense)               (None, 128)               100480    \n",
      "                                                                 \n",
      " dense_1 (Dense)             (None, 10)                1290      \n",
      "                                                                 \n",
      "=================================================================\n",
      "Total params: 101,770\n",
      "Trainable params: 101,770\n",
      "Non-trainable params: 0\n",
      "_________________________________________________________________\n"
     ]
    }
   ],
   "source": [
    "# print model summary\n",
    "model.summary()"
   ]
  },
  {
   "cell_type": "code",
   "execution_count": 11,
   "metadata": {},
   "outputs": [
    {
     "name": "stdout",
     "output_type": "stream",
     "text": [
      "Epoch 1/20\n",
      "1688/1688 [==============================] - 4s 2ms/step - loss: 0.5070 - accuracy: 0.8217 - val_loss: 0.4041 - val_accuracy: 0.8543\n",
      "Epoch 2/20\n",
      "1688/1688 [==============================] - 4s 2ms/step - loss: 0.3781 - accuracy: 0.8638 - val_loss: 0.3519 - val_accuracy: 0.8698\n",
      "Epoch 3/20\n",
      "1688/1688 [==============================] - 3s 2ms/step - loss: 0.3369 - accuracy: 0.8779 - val_loss: 0.3408 - val_accuracy: 0.8745\n",
      "Epoch 4/20\n",
      "1688/1688 [==============================] - 4s 3ms/step - loss: 0.3140 - accuracy: 0.8850 - val_loss: 0.3426 - val_accuracy: 0.8800\n",
      "Epoch 5/20\n",
      "1688/1688 [==============================] - 4s 3ms/step - loss: 0.2945 - accuracy: 0.8913 - val_loss: 0.3709 - val_accuracy: 0.8648\n",
      "Epoch 6/20\n",
      "1688/1688 [==============================] - 4s 2ms/step - loss: 0.2817 - accuracy: 0.8947 - val_loss: 0.3206 - val_accuracy: 0.8848\n",
      "Epoch 7/20\n",
      "1688/1688 [==============================] - 4s 2ms/step - loss: 0.2698 - accuracy: 0.9001 - val_loss: 0.3580 - val_accuracy: 0.8747\n",
      "Epoch 8/20\n",
      "1688/1688 [==============================] - 3s 2ms/step - loss: 0.2553 - accuracy: 0.9039 - val_loss: 0.3170 - val_accuracy: 0.8868\n",
      "Epoch 9/20\n",
      "1688/1688 [==============================] - 3s 2ms/step - loss: 0.2448 - accuracy: 0.9082 - val_loss: 0.3272 - val_accuracy: 0.8837\n",
      "Epoch 10/20\n",
      "1688/1688 [==============================] - 3s 2ms/step - loss: 0.2400 - accuracy: 0.9092 - val_loss: 0.3403 - val_accuracy: 0.8795\n",
      "Epoch 11/20\n",
      "1688/1688 [==============================] - 3s 2ms/step - loss: 0.2299 - accuracy: 0.9140 - val_loss: 0.3291 - val_accuracy: 0.8885\n",
      "Epoch 12/20\n",
      "1688/1688 [==============================] - 3s 2ms/step - loss: 0.2229 - accuracy: 0.9157 - val_loss: 0.3350 - val_accuracy: 0.8830\n",
      "Epoch 13/20\n",
      "1688/1688 [==============================] - 3s 2ms/step - loss: 0.2184 - accuracy: 0.9181 - val_loss: 0.3574 - val_accuracy: 0.8807\n",
      "Epoch 14/20\n",
      "1688/1688 [==============================] - 3s 2ms/step - loss: 0.2091 - accuracy: 0.9216 - val_loss: 0.3374 - val_accuracy: 0.8852\n",
      "Epoch 15/20\n",
      "1688/1688 [==============================] - 3s 2ms/step - loss: 0.2045 - accuracy: 0.9229 - val_loss: 0.3254 - val_accuracy: 0.8918\n",
      "Epoch 16/20\n",
      "1688/1688 [==============================] - 3s 2ms/step - loss: 0.1984 - accuracy: 0.9251 - val_loss: 0.3491 - val_accuracy: 0.8847\n",
      "Epoch 17/20\n",
      "1688/1688 [==============================] - 3s 2ms/step - loss: 0.1927 - accuracy: 0.9278 - val_loss: 0.3407 - val_accuracy: 0.8875\n",
      "Epoch 18/20\n",
      "1688/1688 [==============================] - 3s 2ms/step - loss: 0.1873 - accuracy: 0.9296 - val_loss: 0.3316 - val_accuracy: 0.8905\n",
      "Epoch 19/20\n",
      "1688/1688 [==============================] - 3s 2ms/step - loss: 0.1829 - accuracy: 0.9316 - val_loss: 0.3392 - val_accuracy: 0.8890\n",
      "Epoch 20/20\n",
      "1688/1688 [==============================] - 3s 2ms/step - loss: 0.1760 - accuracy: 0.9346 - val_loss: 0.3394 - val_accuracy: 0.8897\n"
     ]
    }
   ],
   "source": [
    "# train the model\n",
    "history = model.fit(X_train, y_train, epochs=20, validation_split=0.1)"
   ]
  },
  {
   "cell_type": "code",
   "execution_count": 12,
   "metadata": {},
   "outputs": [
    {
     "name": "stdout",
     "output_type": "stream",
     "text": [
      "Test loss: 0.36120685935020447\n",
      "Test accuracy: 0.886900007724762 \n",
      "\n"
     ]
    },
    {
     "data": {
      "image/png": "[encoded data removed]",
      "text/plain": [
       "<Figure size 432x288 with 1 Axes>"
      ]
     },
     "metadata": {
      "needs_background": "light"
     },
     "output_type": "display_data"
    }
   ],
   "source": [
    "# evaluate the model\n",
    "test_loss, test_acc = model.evaluate(X_test, y_test, verbose=False)\n",
    "print('Test loss:', test_loss)\n",
    "print('Test accuracy:', test_acc, '\\n')\n",
    "\n",
    "plt.plot(history.history['accuracy'])\n",
    "plt.plot(history.history['val_accuracy'])\n",
    "plt.title('model accuracy')\n",
    "plt.ylabel('accuracy')\n",
    "plt.xlabel('epoch')\n",
    "plt.legend(['train', 'val'], loc='upper left')\n",
    "plt.show()"
   ]
  }
 ],
 "metadata": {
  "kernelspec": {
   "display_name": "Python 3",
   "language": "python",
   "name": "python3"
  },
  "language_info": {
   "codemirror_mode": {
    "name": "ipython",
    "version": 3
   },
   "file_extension": ".py",
   "mimetype": "text/x-python",
   "name": "python",
   "nbconvert_exporter": "python",
   "pygments_lexer": "ipython3",
   "version": "3.10.10"
  },
  "orig_nbformat": 4,
  "vscode": {
   "interpreter": {
    "hash": "f6cd4f1a4d690f61f0a66f0d752ec615604a1e9c7dfcdfc555308c3b0255f392"
   }
  }
 },
 "nbformat": 4,
 "nbformat_minor": 2
}
